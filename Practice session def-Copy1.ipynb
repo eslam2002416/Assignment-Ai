{
 "cells": [
  {
   "cell_type": "markdown",
   "id": "037c73ac-0d86-4d5a-ac97-b8163844f2c7",
   "metadata": {},
   "source": [
    "## Fanction "
   ]
  },
  {
   "cell_type": "markdown",
   "id": "9ddbbe12-2784-4faa-9799-8ba9e7fb71e4",
   "metadata": {},
   "source": [
    "- Write a function that takes two numbers as arguments and returns their sum."
   ]
  },
  {
   "cell_type": "code",
   "execution_count": 20,
   "id": "029a5666-3416-4670-9644-a19b5fd88d26",
   "metadata": {},
   "outputs": [
    {
     "name": "stdout",
     "output_type": "stream",
     "text": [
      "12\n"
     ]
    }
   ],
   "source": [
    "def my_fun(first,second):\n",
    "   \n",
    "    if (first+second):\n",
    "        return(first+second)\n",
    "num1=5\n",
    "num2=7\n",
    "\n",
    "   \n",
    "result=my_fun(num1,num2)\n",
    "print(result)     "
   ]
  },
  {
   "cell_type": "code",
   "execution_count": null,
   "id": "f7e0881d-061d-410e-9208-0c4dcd6f0e9a",
   "metadata": {},
   "outputs": [],
   "source": []
  },
  {
   "cell_type": "markdown",
   "id": "c6c90bb5-b251-407e-b13a-4c3a320f20ac",
   "metadata": {},
   "source": [
    "- Write a function that takes a list of numbers as an argument and returns the sum of those numbers."
   ]
  },
  {
   "cell_type": "code",
   "execution_count": 36,
   "id": "13e36074-9d7d-4c6d-9652-71c37a63b20c",
   "metadata": {},
   "outputs": [
    {
     "name": "stdout",
     "output_type": "stream",
     "text": [
      "15\n"
     ]
    }
   ],
   "source": [
    "def my_fun(list):\n",
    "    x=0\n",
    "    \n",
    "    for i in list:\n",
    "       x+=i\n",
    "    print(x)\n",
    "        \n",
    "list=[1,2,3,4,5]\n",
    "my_fun(list)\n",
    "    \n",
    "        \n"
   ]
  },
  {
   "cell_type": "code",
   "execution_count": null,
   "id": "f8a90255-14a2-45e5-a265-646a13fd4167",
   "metadata": {},
   "outputs": [],
   "source": []
  },
  {
   "cell_type": "markdown",
   "id": "5b13316d-6e99-40cc-8e20-c1cef178b500",
   "metadata": {},
   "source": [
    "- Write a function that takes a string as an argument and returns the length of that string."
   ]
  },
  {
   "cell_type": "code",
   "execution_count": 44,
   "id": "faf27133-fcec-4fb1-8ee5-33fe55d782ad",
   "metadata": {},
   "outputs": [
    {
     "name": "stdout",
     "output_type": "stream",
     "text": [
      "Eslam shokry\n",
      "12\n"
     ]
    }
   ],
   "source": [
    "def my_function(fname, lname):\n",
    "    print(fname + \" \" + lname)\n",
    "    print(len(fname + \" \" + lname))\n",
    "\n",
    "my_function(\"Eslam\",\"shokry\")"
   ]
  },
  {
   "cell_type": "code",
   "execution_count": null,
   "id": "4b8a74e0-55d3-483b-ad65-092cd3433a77",
   "metadata": {},
   "outputs": [],
   "source": []
  },
  {
   "cell_type": "markdown",
   "id": "4f940a21-5052-4cf3-85ed-ec3f0b757f55",
   "metadata": {},
   "source": [
    "- Write a function that takes a list of strings as an argument and returns the length of the longest string in the list."
   ]
  },
  {
   "cell_type": "code",
   "execution_count": 50,
   "id": "5ad1b6ba-f2a0-4cd2-ab9e-daf2ee67f102",
   "metadata": {},
   "outputs": [
    {
     "name": "stdout",
     "output_type": "stream",
     "text": [
      "longest length string is : mostafa\n",
      "7\n"
     ]
    }
   ],
   "source": [
    "def my_function(list):\n",
    "    max_len=-1\n",
    "    for i in list:\n",
    "        if len(i)>max_len:\n",
    "            max_len=len(i)\n",
    "            res=i\n",
    "    print(\"longest length string is : \" + res)\n",
    "    print(len(res))\n",
    "list=[\"ahmed\",\"eslam\",\"lol\",\"mostafa\"]\n",
    "my_function(list)\n"
   ]
  },
  {
   "cell_type": "code",
   "execution_count": null,
   "id": "23530052-32c9-43d9-9368-6bcd08689995",
   "metadata": {},
   "outputs": [],
   "source": []
  },
  {
   "cell_type": "markdown",
   "id": "c32bc5e5-da6a-4fc1-b634-84f58974b6a8",
   "metadata": {},
   "source": [
    "- Write a function that takes a list of numbers as an argument and returns the average of those numbers."
   ]
  },
  {
   "cell_type": "code",
   "execution_count": 45,
   "id": "e2a2b96f-1918-494a-bda5-47d1d5027249",
   "metadata": {},
   "outputs": [
    {
     "name": "stdout",
     "output_type": "stream",
     "text": [
      "3.5\n"
     ]
    }
   ],
   "source": [
    "def my_fun(linum):\n",
    "    for i in linum:\n",
    "        avg=0\n",
    "        for num in i:\n",
    "            avg +=num\n",
    "            \n",
    "        avg=avg / len(i)\n",
    "        print(str(avg))\n",
    "            \n",
    "if __name__ == '__main__':\n",
    "    linum = [[1, 2, 3, 4, 5, 6]]\n",
    "    my_fun(linum)"
   ]
  },
  {
   "cell_type": "code",
   "execution_count": null,
   "id": "e1ad7d48-cb7a-4393-8c6a-96bb4354ebed",
   "metadata": {},
   "outputs": [],
   "source": []
  },
  {
   "cell_type": "markdown",
   "id": "c389e500-46ee-40f6-9c57-17a0649edc63",
   "metadata": {},
   "source": [
    "- Write a function that takes a string as an argument and returns True if the string is a palindrome (reads the same forwards and backwards) and False otherwise."
   ]
  },
  {
   "cell_type": "code",
   "execution_count": 55,
   "id": "d03a375f-5718-4858-b42c-8b05b5f3f5e1",
   "metadata": {},
   "outputs": [
    {
     "name": "stdout",
     "output_type": "stream",
     "text": [
      "yes\n"
     ]
    }
   ],
   "source": [
    "def plaindrome(x):\n",
    "     return x==x[::-1]\n",
    "    \n",
    "x=\"lololol\"\n",
    "res=plaindrome(x)\n",
    "if res:\n",
    "    print(\"yes\")\n",
    "else:\n",
    "    print(\"no\")  \n",
    "      "
   ]
  },
  {
   "cell_type": "code",
   "execution_count": null,
   "id": "7f4cc590-1d95-4619-8451-eaebd27132ea",
   "metadata": {},
   "outputs": [],
   "source": []
  },
  {
   "cell_type": "markdown",
   "id": "6572eb4a-7322-4def-b606-896135c22124",
   "metadata": {},
   "source": [
    "- Write a function that takes a list of numbers as an argument and returns a new list containing only the even numbers from the original list."
   ]
  },
  {
   "cell_type": "code",
   "execution_count": 49,
   "id": "52a9054a-f8fc-4fa6-b94e-0623a0f7093e",
   "metadata": {},
   "outputs": [
    {
     "name": "stdout",
     "output_type": "stream",
     "text": [
      "[2, 4, 6]\n"
     ]
    }
   ],
   "source": [
    "def my_fun(linum):\n",
    "    newli = []\n",
    "    for i in linum:\n",
    "        if i % 2 == 0:\n",
    "            newli.append(i)\n",
    "    print(newli)\n",
    "\n",
    "\n",
    "linum = [1, 2, 3, 4, 5, 6]\n",
    "my_fun(linum)"
   ]
  },
  {
   "cell_type": "code",
   "execution_count": null,
   "id": "c8c91a17-7c46-48b6-ae79-cc6bdb94bf8b",
   "metadata": {},
   "outputs": [],
   "source": []
  },
  {
   "cell_type": "markdown",
   "id": "1ba77608-13ac-4dd4-9aa3-322cc099e485",
   "metadata": {},
   "source": [
    "- Write a function that takes a list of numbers as an argument and returns a new list containing the squares of those numbers."
   ]
  },
  {
   "cell_type": "code",
   "execution_count": 14,
   "id": "1e2e22ef-86bd-4f40-af4a-8f2951e2ccbf",
   "metadata": {},
   "outputs": [
    {
     "name": "stdout",
     "output_type": "stream",
     "text": [
      "[1, 4, 9, 16, 25, 36]\n"
     ]
    }
   ],
   "source": [
    "def my_fun(linum):\n",
    "    newli = []\n",
    "    res=[i**2 for i in linum]\n",
    "    print(res)\n",
    "    \n",
    "linum = [1, 2, 3, 4, 5, 6]\n",
    "my_fun(linum)"
   ]
  },
  {
   "cell_type": "code",
   "execution_count": null,
   "id": "c8e84052-20e3-4031-88bf-a984b4f58063",
   "metadata": {},
   "outputs": [],
   "source": []
  }
 ],
 "metadata": {
  "kernelspec": {
   "display_name": "Python 3 (ipykernel)",
   "language": "python",
   "name": "python3"
  },
  "language_info": {
   "codemirror_mode": {
    "name": "ipython",
    "version": 3
   },
   "file_extension": ".py",
   "mimetype": "text/x-python",
   "name": "python",
   "nbconvert_exporter": "python",
   "pygments_lexer": "ipython3",
   "version": "3.10.9"
  }
 },
 "nbformat": 4,
 "nbformat_minor": 5
}
